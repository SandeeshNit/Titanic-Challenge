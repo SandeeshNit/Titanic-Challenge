{
  "nbformat": 4,
  "nbformat_minor": 0,
  "metadata": {
    "colab": {
      "name": "Ensembling Models",
      "provenance": []
    },
    "kernelspec": {
      "name": "python3",
      "display_name": "Python 3"
    },
    "accelerator": "GPU"
  },
  "cells": [
    {
      "cell_type": "code",
      "metadata": {
        "id": "jkrKw1lROmai",
        "colab_type": "code",
        "colab": {}
      },
      "source": [
        "import numpy as np \n",
        "import pandas as pd\n",
        "from scipy import stats"
      ],
      "execution_count": 0,
      "outputs": []
    },
    {
      "cell_type": "code",
      "metadata": {
        "id": "KnVhblTMPJ-P",
        "colab_type": "code",
        "colab": {}
      },
      "source": [
        "ans = 0\n",
        "for i in range(2,13):\n",
        "  data = pd.read_csv(\"/content/rfc_grid_data\"+str(i)+\".csv\")\n",
        "  y_pred = np.array(data[\"Survived\"])\n",
        "  ans = ans  + y_pred"
      ],
      "execution_count": 0,
      "outputs": []
    },
    {
      "cell_type": "code",
      "metadata": {
        "id": "JZhREhdNPrUT",
        "colab_type": "code",
        "colab": {}
      },
      "source": [
        "data = pd.read_csv(\"/content/rfc_grid_data.csv\")\n",
        "y_pred = np.array(data[\"Survived\"])\n",
        "ans = ans +y_pred"
      ],
      "execution_count": 0,
      "outputs": []
    },
    {
      "cell_type": "code",
      "metadata": {
        "id": "fpiUL6J1Y-Td",
        "colab_type": "code",
        "outputId": "ab752db1-3426-475c-c38d-a0522d078e09",
        "colab": {
          "base_uri": "https://localhost:8080/",
          "height": 437
        }
      },
      "source": [
        "ans"
      ],
      "execution_count": 0,
      "outputs": [
        {
          "output_type": "execute_result",
          "data": {
            "text/plain": [
              "array([ 0,  2,  0,  0, 12,  0,  6,  0, 12,  0,  0,  0, 12,  0, 12, 12,  0,\n",
              "        0,  3, 12,  0, 12, 12,  0, 12,  0, 12,  0,  0,  0,  0,  0, 11,  7,\n",
              "        6,  0,  0,  0,  0,  8,  0,  2,  0, 12, 12,  0,  0,  0, 12, 11,  0,\n",
              "        0, 12, 12,  0,  0,  0,  0,  0, 12,  0,  0,  0, 12, 12, 12, 12,  0,\n",
              "        4, 12, 12,  0,  1,  5, 12,  0,  0, 12,  0, 12, 12,  0,  0,  0,  0,\n",
              "        0, 12,  0,  9, 12,  9,  0, 12,  0,  0,  0, 12,  0,  5,  0, 12,  0,\n",
              "        0,  0, 12,  0,  0,  0,  0,  0,  0, 12, 12, 12, 12,  0,  0, 12,  4,\n",
              "       12, 12,  0, 12,  0,  0, 12,  0, 12,  0,  0,  0,  2,  0,  0,  0,  0,\n",
              "        0,  0,  0,  0,  0, 12,  2,  0,  3,  0,  0,  0,  2,  0, 12,  0,  0,\n",
              "       10,  0,  0, 12,  5,  3, 12, 12, 12, 12,  0,  0, 12,  0,  0, 12,  0,\n",
              "        0,  0,  0,  0,  0, 12, 12,  0, 12, 12,  0,  1, 12,  0, 12,  0, 12,\n",
              "        0,  0,  0,  0,  0, 12,  0, 12,  0, 12,  8,  0,  2, 12, 12, 12, 12,\n",
              "        0,  0,  4,  0, 12,  0,  0,  0,  0, 12,  1,  0, 12,  0, 12,  0, 12,\n",
              "        0, 12,  0, 12,  5,  0, 12,  0,  0,  0, 12,  0,  0,  0,  0,  0,  0,\n",
              "       12, 12, 12, 12,  0,  0, 12,  0, 12,  0, 12,  1, 12,  0,  1,  0,  0,\n",
              "        0,  0,  0, 12,  0,  0,  0, 12, 12,  0,  0,  0,  0,  0,  0,  0,  0,\n",
              "       12, 12,  0, 12,  0,  0,  0,  0,  0, 12, 12,  7, 12,  0,  0,  0,  0,\n",
              "        0,  0,  7,  0,  7,  0,  0, 12,  0,  0,  0,  0,  0,  0,  0, 12, 12,\n",
              "        5, 12,  0,  0,  0,  0,  0,  2, 12, 12,  0,  0,  0,  0,  0,  0,  0,\n",
              "       11, 12,  0, 12,  0,  0,  0, 12,  0,  0, 12,  0,  0,  0,  0,  0, 12,\n",
              "        0,  0,  0, 12, 12, 12,  0, 12,  0, 12, 12,  0,  0,  0, 12,  0, 12,\n",
              "        0,  0, 11,  0, 12, 12,  0, 12,  0,  0,  4, 12,  0,  0, 12,  0,  0,\n",
              "       12, 12,  0,  0,  0,  0,  0,  0, 10, 12,  0, 12,  0,  0,  0,  0,  0,\n",
              "       12, 12,  0,  0, 12,  0, 12,  0,  0, 12,  0, 12,  0,  0,  0,  0,  0,\n",
              "       12, 12, 12, 12,  3,  0, 12,  0,  0, 12])"
            ]
          },
          "metadata": {
            "tags": []
          },
          "execution_count": 35
        }
      ]
    },
    {
      "cell_type": "code",
      "metadata": {
        "id": "RUsZ_pvAPycK",
        "colab_type": "code",
        "colab": {}
      },
      "source": [
        "for i in range(418):\n",
        "  if ans[i]>=7:\n",
        "    ans[i]=1\n",
        "  else:\n",
        "    ans[i]=0"
      ],
      "execution_count": 0,
      "outputs": []
    },
    {
      "cell_type": "code",
      "metadata": {
        "id": "BeXo73kvQL0u",
        "colab_type": "code",
        "colab": {}
      },
      "source": [
        "data = pd.read_csv(\"/content/rfc_grid_data7.csv\")"
      ],
      "execution_count": 0,
      "outputs": []
    },
    {
      "cell_type": "code",
      "metadata": {
        "id": "GKqFWG_ySx_U",
        "colab_type": "code",
        "colab": {}
      },
      "source": [
        "rfc_grid= pd.DataFrame({\n",
        "        \"PassengerId\": data[\"PassengerId\"],\n",
        "        \"Survived\": ans\n",
        "    })"
      ],
      "execution_count": 0,
      "outputs": []
    },
    {
      "cell_type": "code",
      "metadata": {
        "id": "23-pAWcZVqFD",
        "colab_type": "code",
        "colab": {}
      },
      "source": [
        ""
      ],
      "execution_count": 0,
      "outputs": []
    },
    {
      "cell_type": "code",
      "metadata": {
        "id": "vwE8hUboViZl",
        "colab_type": "code",
        "colab": {}
      },
      "source": [
        "rfc_grid.to_csv(\"/content/ans2.csv\", index=False)"
      ],
      "execution_count": 0,
      "outputs": []
    },
    {
      "cell_type": "code",
      "metadata": {
        "id": "zpVknW1JVqpi",
        "colab_type": "code",
        "outputId": "7d9d452f-0806-4e7d-81ae-2f011e20274b",
        "colab": {
          "base_uri": "https://localhost:8080/",
          "height": 402
        }
      },
      "source": [
        "rfc_grid"
      ],
      "execution_count": 0,
      "outputs": [
        {
          "output_type": "execute_result",
          "data": {
            "text/html": [
              "<div>\n",
              "<style scoped>\n",
              "    .dataframe tbody tr th:only-of-type {\n",
              "        vertical-align: middle;\n",
              "    }\n",
              "\n",
              "    .dataframe tbody tr th {\n",
              "        vertical-align: top;\n",
              "    }\n",
              "\n",
              "    .dataframe thead th {\n",
              "        text-align: right;\n",
              "    }\n",
              "</style>\n",
              "<table border=\"1\" class=\"dataframe\">\n",
              "  <thead>\n",
              "    <tr style=\"text-align: right;\">\n",
              "      <th></th>\n",
              "      <th>PassengerId</th>\n",
              "      <th>Survived</th>\n",
              "    </tr>\n",
              "  </thead>\n",
              "  <tbody>\n",
              "    <tr>\n",
              "      <th>0</th>\n",
              "      <td>892</td>\n",
              "      <td>0</td>\n",
              "    </tr>\n",
              "    <tr>\n",
              "      <th>1</th>\n",
              "      <td>893</td>\n",
              "      <td>0</td>\n",
              "    </tr>\n",
              "    <tr>\n",
              "      <th>2</th>\n",
              "      <td>894</td>\n",
              "      <td>0</td>\n",
              "    </tr>\n",
              "    <tr>\n",
              "      <th>3</th>\n",
              "      <td>895</td>\n",
              "      <td>0</td>\n",
              "    </tr>\n",
              "    <tr>\n",
              "      <th>4</th>\n",
              "      <td>896</td>\n",
              "      <td>1</td>\n",
              "    </tr>\n",
              "    <tr>\n",
              "      <th>...</th>\n",
              "      <td>...</td>\n",
              "      <td>...</td>\n",
              "    </tr>\n",
              "    <tr>\n",
              "      <th>413</th>\n",
              "      <td>1305</td>\n",
              "      <td>0</td>\n",
              "    </tr>\n",
              "    <tr>\n",
              "      <th>414</th>\n",
              "      <td>1306</td>\n",
              "      <td>1</td>\n",
              "    </tr>\n",
              "    <tr>\n",
              "      <th>415</th>\n",
              "      <td>1307</td>\n",
              "      <td>0</td>\n",
              "    </tr>\n",
              "    <tr>\n",
              "      <th>416</th>\n",
              "      <td>1308</td>\n",
              "      <td>0</td>\n",
              "    </tr>\n",
              "    <tr>\n",
              "      <th>417</th>\n",
              "      <td>1309</td>\n",
              "      <td>1</td>\n",
              "    </tr>\n",
              "  </tbody>\n",
              "</table>\n",
              "<p>418 rows × 2 columns</p>\n",
              "</div>"
            ],
            "text/plain": [
              "     PassengerId  Survived\n",
              "0            892         0\n",
              "1            893         0\n",
              "2            894         0\n",
              "3            895         0\n",
              "4            896         1\n",
              "..           ...       ...\n",
              "413         1305         0\n",
              "414         1306         1\n",
              "415         1307         0\n",
              "416         1308         0\n",
              "417         1309         1\n",
              "\n",
              "[418 rows x 2 columns]"
            ]
          },
          "metadata": {
            "tags": []
          },
          "execution_count": 32
        }
      ]
    },
    {
      "cell_type": "code",
      "metadata": {
        "id": "KcDHFIKzWhYA",
        "colab_type": "code",
        "colab": {}
      },
      "source": [
        ""
      ],
      "execution_count": 0,
      "outputs": []
    }
  ]
}